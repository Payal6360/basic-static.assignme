{
  "nbformat": 4,
  "nbformat_minor": 0,
  "metadata": {
    "colab": {
      "provenance": []
    },
    "kernelspec": {
      "name": "python3",
      "display_name": "Python 3"
    },
    "language_info": {
      "name": "python"
    }
  },
  "cells": [
    {
      "cell_type": "code",
      "execution_count": null,
      "metadata": {
        "id": "p6OvvBZZxFth"
      },
      "outputs": [],
      "source": []
    },
    {
      "cell_type": "markdown",
      "source": [],
      "metadata": {
        "id": "zM4XevOGyPcJ"
      }
    },
    {
      "cell_type": "markdown",
      "source": [
        "#theory"
      ],
      "metadata": {
        "id": "R28LMMj-yP2s"
      }
    },
    {
      "cell_type": "code",
      "source": [],
      "metadata": {
        "id": "iQqBFI6czLan"
      },
      "execution_count": null,
      "outputs": []
    },
    {
      "cell_type": "markdown",
      "source": [
        "1:--What is statistics, and why is it important?\n",
        "\n",
        "Statistics is the science of collecting, analyzing, interpreting, and presenting data. It is important because it helps in making informed decisions, identifying patterns, testing hypotheses, and predicting outcomes in various fields like business, science, and social studies."
      ],
      "metadata": {
        "id": "GLT4Uofv4fbZ"
      }
    },
    {
      "cell_type": "markdown",
      "source": [
        "2:--What are the two main types of statistics?\n",
        "\n",
        "Descriptive Statistics\n",
        "\n",
        "Inferential Statistics"
      ],
      "metadata": {
        "id": "f8MXjsro4nMj"
      }
    },
    {
      "cell_type": "markdown",
      "source": [
        "3:-What are descriptive statistics?\n",
        "\n",
        "Descriptive statistics summarize and describe data using measures like mean, median, mode, range, and standard deviation. They present data in a clear, organized form (tables, charts) without making predictions or generalizations."
      ],
      "metadata": {
        "id": "JfHD9yHE4wqF"
      }
    },
    {
      "cell_type": "markdown",
      "source": [
        "4:--What is inferential statistics?\n",
        "\n",
        "Inferential statistics use sample data to make conclusions or predictions about a larger population. It involves hypothesis testing, confidence intervals, and regression to draw inferences beyond the available data"
      ],
      "metadata": {
        "id": "PsCt015g47Ev"
      }
    },
    {
      "cell_type": "markdown",
      "source": [
        "5:-- What is sampling in statistics?\n",
        "\n",
        "Sampling is the process of selecting a subset of individuals or observations from a population to estimate characteristics of the whole population, reducing cost and effort while maintaining accuracy."
      ],
      "metadata": {
        "id": "V2U94l8P5D6k"
      }
    },
    {
      "cell_type": "markdown",
      "source": [
        "6:- What are the different types of sampling methods?\n",
        "\n",
        "Sampling methods include:\n",
        "\n",
        "Random Sampling – every member has equal chance.\n",
        "\n",
        "Stratified Sampling – population divided into groups, samples taken from each.\n",
        "\n",
        "Systematic Sampling – selecting every k-th element.\n",
        "\n",
        "Cluster Sampling – selecting entire groups randomly.\n",
        "\n",
        "Convenience Sampling – based on easy access, less reliable."
      ],
      "metadata": {
        "id": "me9sOQhD5R-Y"
      }
    },
    {
      "cell_type": "markdown",
      "source": [
        "7:--  What is the difference between random and non-random sampling?\n",
        "\n",
        "Random Sampling: Every member has an equal chance of selection, reducing bias (e.g., lottery draw).\n",
        "\n",
        "Non-Random Sampling: Selection is based on convenience or judgment, which may introduce bias (e.g., surveying friends only)."
      ],
      "metadata": {
        "id": "4X_OzAJX5fR0"
      }
    },
    {
      "cell_type": "markdown",
      "source": [
        "8:-Define and give examples of qualitative and quantitative data.\n",
        "\n",
        "Qualitative Data: Descriptive, non-numeric information (e.g., colors, gender, opinions).\n",
        "\n",
        "Quantitative Data: Numeric, measurable data (e.g., height, age, salary)"
      ],
      "metadata": {
        "id": "p_HHpU3I5zc-"
      }
    },
    {
      "cell_type": "markdown",
      "source": [
        "9:- What are the different types of data in statistics?\n",
        "\n",
        "Qualitative (Categorical) Data – describes attributes (nominal, ordinal).\n",
        "\n",
        "Quantitative (Numerical) Data – measurable values (discrete, continuous)."
      ],
      "metadata": {
        "id": "NgzzXjju5-1x"
      }
    },
    {
      "cell_type": "markdown",
      "source": [
        "10:--5 Explain nominal, ordinal, interval, and ratio levels of measurement?\n",
        "\n",
        "Nominal: Categories without order (e.g., blood type).\n",
        "\n",
        "Ordinal: Categories with order, no equal gaps (e.g., ranking).\n",
        "\n",
        "Interval: Ordered, equal gaps, no true zero (e.g., temperature °C).\n",
        "\n",
        "Ratio: Ordered, equal gaps, true zero (e.g., weight, height)."
      ],
      "metadata": {
        "id": "hUz_37_G6T0Y"
      }
    },
    {
      "cell_type": "markdown",
      "source": [
        "11::-- What is the measure of central tendency?\n",
        "\n",
        "It is a statistical measure that identifies the center or typical value in a dataset. The main measures are mean, median, and mode, which summarize the data with a single representative value."
      ],
      "metadata": {
        "id": "ycwhkNxg6cyr"
      }
    },
    {
      "cell_type": "markdown",
      "source": [
        "12:--Define mean, median, and mode.\n",
        "\n",
        "Mean: The average, calculated by dividing the sum of values by their count.\n",
        "\n",
        "Median: The middle value when data is arranged in order.\n",
        "\n",
        "Mode: The most frequently occurring value.\n",
        "These measures help describe data distribution and identify typical values in datasets."
      ],
      "metadata": {
        "id": "nzQRT0CH6nhe"
      }
    },
    {
      "cell_type": "markdown",
      "source": [
        "13:-What is the significance of the measure of central tendency?\n",
        "\n",
        "It summarizes a dataset with a single value, representing its center. It simplifies complex data, aids comparison between groups, and helps in decision-making, predictions, and understanding patterns in data"
      ],
      "metadata": {
        "id": "AV-8Cihq6wuA"
      }
    },
    {
      "cell_type": "markdown",
      "source": [
        "14:-- What is variance, and how is it calculated?\n",
        "\n",
        "Variance measures how far data points spread from the mean.\n",
        "Formula:\n",
        "\n",
        "Variance\n",
        "(\n",
        "𝜎\n",
        "2\n",
        ")\n",
        "=\n",
        "∑\n",
        "(\n",
        "𝑥\n",
        "𝑖\n",
        "−\n",
        "𝑥\n",
        "ˉ\n",
        ")\n",
        "2\n",
        "𝑛\n",
        "Variance(σ\n",
        "2\n",
        " )=\n",
        "n\n",
        "∑(x\n",
        "i\n",
        "​\n",
        " −\n",
        "x\n",
        "ˉ\n",
        " )\n",
        "2\n",
        "\n",
        "​\n",
        "\n",
        "where\n",
        "𝑥\n",
        "𝑖\n",
        "x\n",
        "i\n",
        "​\n",
        "  are data points,\n",
        "𝑥\n",
        "ˉ\n",
        "x\n",
        "ˉ\n",
        "  is mean, and\n",
        "𝑛\n",
        "n is total observations."
      ],
      "metadata": {
        "id": "fw_CPdum7Hqd"
      }
    },
    {
      "cell_type": "markdown",
      "source": [
        "15:--What is standard deviation, and why is it important?\n",
        "\n",
        "Standard deviation (SD) is the square root of variance, showing how much data varies around the mean. It is important because it is in the same units as data, making it easier to interpret variability and risk"
      ],
      "metadata": {
        "id": "UcAfvgvN7Rpx"
      }
    },
    {
      "cell_type": "markdown",
      "source": [
        "16:-- Define and explain the term range in statistics.\n",
        "\n",
        "Range is the difference between the largest and smallest values in a dataset.\n",
        "\n",
        "Range\n",
        "=\n",
        "Maximum\n",
        "−\n",
        "Minimum\n",
        "Range=Maximum−Minimum\n",
        "It gives a simple measure of spread but is sensitive to outliers"
      ],
      "metadata": {
        "id": "7wtz7krw7md9"
      }
    },
    {
      "cell_type": "markdown",
      "source": [
        "17:-- What is the difference between variance and standard deviation?\n",
        "\n",
        "ariance: Average of squared deviations from mean; unit is squared.\n",
        "\n",
        "Standard Deviation: Square root of variance; expressed in original units, making interpretation easier."
      ],
      "metadata": {
        "id": "kLH61O1w7z2y"
      }
    },
    {
      "cell_type": "markdown",
      "source": [
        "18:-What is skewness in a dataset?\n",
        "\n",
        "Zero skewness: perfectly symmetric (normal distribution).\n",
        "\n",
        "Positive skew: tail extends to the right.\n",
        "\n",
        "Negative skew: tail extends to the left."
      ],
      "metadata": {
        "id": "kJKuRhOK7-A1"
      }
    },
    {
      "cell_type": "markdown",
      "source": [
        "19:-  What does it mean if a dataset is positively or negatively skewed?\n",
        "\n",
        "A positively skewed dataset has most values on the left with a long right tail; mean > median.\n",
        "A negatively skewed dataset has most values on the right with a long left tail; mean < median.\n",
        "Skewness indicates the direction and degree of asymmetry in data distribution"
      ],
      "metadata": {
        "id": "9c2kJTbA8ISI"
      }
    },
    {
      "cell_type": "markdown",
      "source": [
        "20:--Define and explain kurtosis.\n",
        "\n",
        "High kurtosis: heavy tails, more outliers.\n",
        "\n",
        "Low kurtosis: light tails, fewer outliers.\n",
        "\n",
        "Normal kurtosis (mesokurtic): similar to normal distribution.\n",
        "It helps assess the risk of extreme values."
      ],
      "metadata": {
        "id": "lL0Q1ITg8ZTS"
      }
    },
    {
      "cell_type": "markdown",
      "source": [
        "#practical"
      ],
      "metadata": {
        "id": "Fm3VZMzb8ikd"
      }
    },
    {
      "cell_type": "markdown",
      "source": [
        "21:--How do you calculate the mean, median, and mode of a dataset?\n",
        "\n",
        "Mean: Add all values and divide by the number of values.\n",
        "\n",
        "Mean\n",
        "=\n",
        "∑\n",
        "𝑥\n",
        "𝑖\n",
        "𝑛\n",
        "Mean=\n",
        "n\n",
        "∑x\n",
        "i\n",
        "​\n",
        "\n",
        "​\n",
        "\n",
        "Median: Arrange data in order; if odd count, pick middle value; if even, average the two middle values.\n",
        "\n",
        "Mode: The value that occurs most frequently in the dataset."
      ],
      "metadata": {
        "id": "vdwcItYE83kC"
      }
    },
    {
      "cell_type": "markdown",
      "source": [
        "22:-  Write a Python program to compute the variance and standard deviation of a dataset."
      ],
      "metadata": {
        "id": "4a-Z3Al99BVO"
      }
    },
    {
      "cell_type": "code",
      "source": [
        "import statistics as stats\n",
        "\n",
        "data = [10, 12, 23, 23, 16, 23, 21, 16]\n",
        "\n",
        "# Variance\n",
        "variance = stats.variance(data)\n",
        "\n",
        "# Standard Deviation\n",
        "std_dev = stats.stdev(data)\n",
        "\n",
        "print(\"Variance:\", variance)\n",
        "print(\"Standard Deviation:\", std_dev)"
      ],
      "metadata": {
        "colab": {
          "base_uri": "https://localhost:8080/"
        },
        "id": "jNlYzIMy9M5H",
        "outputId": "9c346cbd-f7cc-4d06-a798-1d6fe3cc68e9"
      },
      "execution_count": 1,
      "outputs": [
        {
          "output_type": "stream",
          "name": "stdout",
          "text": [
            "Variance: 27.428571428571427\n",
            "Standard Deviation: 5.237229365663818\n"
          ]
        }
      ]
    },
    {
      "cell_type": "code",
      "source": [],
      "metadata": {
        "id": "R-JZkxV-9T-X"
      },
      "execution_count": null,
      "outputs": []
    },
    {
      "cell_type": "markdown",
      "source": [
        "23:--Create a dataset and classify it into nominal, ordinal, interval, and ratio types.\n",
        "\n",
        "Nominal: Colors → categories without order\n",
        "\n",
        "Ordinal: Customer_Rating → ordered categories\n",
        "\n",
        "Interval: Temperature → equal intervals, no true zero\n",
        "\n",
        "Ratio: Weight → equal intervals, true zero"
      ],
      "metadata": {
        "id": "UdsJQRRH9V5s"
      }
    },
    {
      "cell_type": "code",
      "source": [
        "dataset = {\n",
        "    \"Colors\": [\"Red\", \"Blue\", \"Green\"],              # Nominal\n",
        "    \"Customer_Rating\": [1, 2, 3, 4, 5],             # Ordinal\n",
        "    \"Temperature_C\": [20, 25, 30, 35],              # Interval\n",
        "    \"Weight_kg\": [50, 60, 70, 80]                   # Ratio\n",
        "}\n",
        "\n",
        "for key, values in dataset.items():\n",
        "    print(f\"{key}: {values}\")"
      ],
      "metadata": {
        "colab": {
          "base_uri": "https://localhost:8080/"
        },
        "id": "VUwkFrna9brB",
        "outputId": "4ed8182c-3957-4e1d-fa8a-c96e4a69d5be"
      },
      "execution_count": 2,
      "outputs": [
        {
          "output_type": "stream",
          "name": "stdout",
          "text": [
            "Colors: ['Red', 'Blue', 'Green']\n",
            "Customer_Rating: [1, 2, 3, 4, 5]\n",
            "Temperature_C: [20, 25, 30, 35]\n",
            "Weight_kg: [50, 60, 70, 80]\n"
          ]
        }
      ]
    },
    {
      "cell_type": "code",
      "source": [],
      "metadata": {
        "id": "yXpcOdoU9rnR"
      },
      "execution_count": null,
      "outputs": []
    },
    {
      "cell_type": "markdown",
      "source": [
        "24:--65 Implement sampling techniques like random sampling and stratified sampling."
      ],
      "metadata": {
        "id": "HLxrkBN_9uyM"
      }
    },
    {
      "cell_type": "code",
      "source": [
        "import random\n",
        "import pandas as pd\n",
        "\n",
        "# Dataset\n",
        "data = pd.DataFrame({\n",
        "    'ID': range(1, 21),\n",
        "    'Group': ['A']*10 + ['B']*10\n",
        "})\n",
        "\n",
        "# Random Sampling (5 samples)\n",
        "random_sample = data.sample(n=5)\n",
        "print(\"Random Sample:\\n\", random_sample)\n",
        "\n",
        "# Stratified Sampling (3 samples from each group)\n",
        "stratified_sample = data.groupby('Group', group_keys=False).apply(lambda x: x.sample(3))\n",
        "print(\"\\nStratified Sample:\\n\", stratified_sample)"
      ],
      "metadata": {
        "colab": {
          "base_uri": "https://localhost:8080/"
        },
        "id": "6YvgMUHm90Es",
        "outputId": "628e4968-ac11-44ba-dc40-75184e990b79"
      },
      "execution_count": 3,
      "outputs": [
        {
          "output_type": "stream",
          "name": "stdout",
          "text": [
            "Random Sample:\n",
            "    ID Group\n",
            "8   9     A\n",
            "7   8     A\n",
            "1   2     A\n",
            "5   6     A\n",
            "0   1     A\n",
            "\n",
            "Stratified Sample:\n",
            "     ID Group\n",
            "5    6     A\n",
            "9   10     A\n",
            "4    5     A\n",
            "16  17     B\n",
            "17  18     B\n",
            "19  20     B\n"
          ]
        },
        {
          "output_type": "stream",
          "name": "stderr",
          "text": [
            "/tmp/ipython-input-3-2909567971.py:15: DeprecationWarning: DataFrameGroupBy.apply operated on the grouping columns. This behavior is deprecated, and in a future version of pandas the grouping columns will be excluded from the operation. Either pass `include_groups=False` to exclude the groupings or explicitly select the grouping columns after groupby to silence this warning.\n",
            "  stratified_sample = data.groupby('Group', group_keys=False).apply(lambda x: x.sample(3))\n"
          ]
        }
      ]
    },
    {
      "cell_type": "code",
      "source": [],
      "metadata": {
        "id": "LySlAXw8-AqG"
      },
      "execution_count": null,
      "outputs": []
    },
    {
      "cell_type": "markdown",
      "source": [
        "25:--Write a Python function to calculate the range of a dataset."
      ],
      "metadata": {
        "id": "vpbkvc9C-CCU"
      }
    },
    {
      "cell_type": "code",
      "source": [
        "def calculate_range(data):\n",
        "    return max(data) - min(data)\n",
        "\n",
        "data = [5, 8, 12, 20, 3, 7]\n",
        "print(\"Range:\", calculate_range(data))"
      ],
      "metadata": {
        "colab": {
          "base_uri": "https://localhost:8080/"
        },
        "id": "d1DUgmI8-HSO",
        "outputId": "a911bc27-3489-446d-b5a4-1f6374217074"
      },
      "execution_count": 4,
      "outputs": [
        {
          "output_type": "stream",
          "name": "stdout",
          "text": [
            "Range: 17\n"
          ]
        }
      ]
    },
    {
      "cell_type": "code",
      "source": [],
      "metadata": {
        "id": "IKNVcvTH-OUt"
      },
      "execution_count": null,
      "outputs": []
    },
    {
      "cell_type": "markdown",
      "source": [
        "26:-- Create a dataset and plot its histogram to visualize skewness."
      ],
      "metadata": {
        "id": "7YVHbc9z-g_V"
      }
    },
    {
      "cell_type": "code",
      "source": [
        "import matplotlib.pyplot as plt\n",
        "import numpy as np\n",
        "\n",
        "# Positively skewed dataset\n",
        "data = np.random.exponential(scale=2.0, size=1000)\n",
        "\n",
        "# Plot histogram\n",
        "plt.hist(data, bins=30, color='skyblue', edgecolor='black')\n",
        "plt.title(\"Histogram to Visualize Skewness\")\n",
        "plt.xlabel(\"Value\")\n",
        "plt.ylabel(\"Frequency\")\n",
        "plt.show()"
      ],
      "metadata": {
        "colab": {
          "base_uri": "https://localhost:8080/",
          "height": 472
        },
        "id": "8tdTN8nd-nl8",
        "outputId": "1ca1f7d1-1172-43c3-9a31-4fbb188fecc1"
      },
      "execution_count": 5,
      "outputs": [
        {
          "output_type": "display_data",
          "data": {
            "text/plain": [
              "<Figure size 640x480 with 1 Axes>"
            ],
            "image/png": "[encoded data removed]"
          },
          "metadata": {}
        }
      ]
    },
    {
      "cell_type": "code",
      "source": [],
      "metadata": {
        "id": "0TYHqmi1-rTW"
      },
      "execution_count": null,
      "outputs": []
    },
    {
      "cell_type": "markdown",
      "source": [
        "27:-- Calculate skewness and kurtosis of a dataset using Python libraries."
      ],
      "metadata": {
        "id": "M5YuUG8Q-vDs"
      }
    },
    {
      "cell_type": "code",
      "source": [
        "from scipy.stats import skew, kurtosis\n",
        "\n",
        "data = np.random.normal(0, 1, 1000)  # Normal distribution\n",
        "\n",
        "print(\"Skewness:\", skew(data))\n",
        "print(\"Kurtosis:\", kurtosis(data))"
      ],
      "metadata": {
        "colab": {
          "base_uri": "https://localhost:8080/"
        },
        "id": "rtMLusut-xPq",
        "outputId": "e0908ba9-3aae-4047-c4f0-04a9c116302a"
      },
      "execution_count": 6,
      "outputs": [
        {
          "output_type": "stream",
          "name": "stdout",
          "text": [
            "Skewness: 0.05448637444113121\n",
            "Kurtosis: -0.16526469909410224\n"
          ]
        }
      ]
    },
    {
      "cell_type": "code",
      "source": [],
      "metadata": {
        "id": "ezhBDrRn-z3L"
      },
      "execution_count": null,
      "outputs": []
    },
    {
      "cell_type": "markdown",
      "source": [
        "28:-- Generate a dataset and demonstrate positive and negative skewness."
      ],
      "metadata": {
        "id": "TUKASu89-1J-"
      }
    },
    {
      "cell_type": "code",
      "source": [
        "# Positive skew\n",
        "positive_skew = np.random.exponential(scale=2, size=1000)\n",
        "# Negative skew (mirror)\n",
        "negative_skew = -np.random.exponential(scale=2, size=1000)\n",
        "\n",
        "plt.hist(positive_skew, bins=30, alpha=0.6, color='green', label=\"Positive Skew\")\n",
        "plt.hist(negative_skew, bins=30, alpha=0.6, color='red', label=\"Negative Skew\")\n",
        "plt.legend()\n",
        "plt.title(\"Positive vs Negative Skewness\")\n",
        "plt.show()"
      ],
      "metadata": {
        "colab": {
          "base_uri": "https://localhost:8080/",
          "height": 452
        },
        "id": "FLsA2cTb-6zt",
        "outputId": "18d78a9d-a5fc-4f6e-8611-f0bba7c34d27"
      },
      "execution_count": 7,
      "outputs": [
        {
          "output_type": "display_data",
          "data": {
            "text/plain": [
              "<Figure size 640x480 with 1 Axes>"
            ],
            "image/png": "[encoded data removed]"
          },
          "metadata": {}
        }
      ]
    },
    {
      "cell_type": "code",
      "source": [],
      "metadata": {
        "id": "x8kXFmQ4-92y"
      },
      "execution_count": null,
      "outputs": []
    },
    {
      "cell_type": "markdown",
      "source": [
        "29:--  Write a Python script to calculate covariance between two datasets."
      ],
      "metadata": {
        "id": "JA_H4cme-_Kr"
      }
    },
    {
      "cell_type": "code",
      "source": [
        "import numpy as np\n",
        "\n",
        "x = [2, 4, 6, 8]\n",
        "y = [1, 3, 5, 7]\n",
        "\n",
        "cov_matrix = np.cov(x, y, bias=True)\n",
        "print(\"Covariance between x and y:\", cov_matrix[0, 1])"
      ],
      "metadata": {
        "colab": {
          "base_uri": "https://localhost:8080/"
        },
        "id": "9WqB5aXw_HhK",
        "outputId": "6ad5eb7c-302f-426b-b91c-2a4ff24324ac"
      },
      "execution_count": 8,
      "outputs": [
        {
          "output_type": "stream",
          "name": "stdout",
          "text": [
            "Covariance between x and y: 5.0\n"
          ]
        }
      ]
    },
    {
      "cell_type": "code",
      "source": [],
      "metadata": {
        "id": "gm3HjqfG_Kcb"
      },
      "execution_count": null,
      "outputs": []
    },
    {
      "cell_type": "markdown",
      "source": [
        "30:-- Write a Python script to calculate the correlation coefficient between two datasets."
      ],
      "metadata": {
        "id": "bxBkLzrg_Lcr"
      }
    },
    {
      "cell_type": "code",
      "source": [
        "import numpy as np\n",
        "\n",
        "x = [2, 4, 6, 8]\n",
        "y = [1, 3, 5, 7]\n",
        "\n",
        "corr_coef = np.corrcoef(x, y)[0, 1]\n",
        "print(\"Correlation Coefficient:\", corr_coef)"
      ],
      "metadata": {
        "colab": {
          "base_uri": "https://localhost:8080/"
        },
        "id": "OoYXBsl__SJe",
        "outputId": "caeb712d-9a51-44eb-aaf4-d5919f640443"
      },
      "execution_count": 9,
      "outputs": [
        {
          "output_type": "stream",
          "name": "stdout",
          "text": [
            "Correlation Coefficient: 1.0\n"
          ]
        }
      ]
    },
    {
      "cell_type": "code",
      "source": [],
      "metadata": {
        "id": "nOkwCYlm_WCz"
      },
      "execution_count": null,
      "outputs": []
    },
    {
      "cell_type": "markdown",
      "source": [
        "31:- Create a scatter plot to visualize the relationship between two variables."
      ],
      "metadata": {
        "id": "r65UoHdM_W4M"
      }
    },
    {
      "cell_type": "code",
      "source": [
        "import matplotlib.pyplot as plt\n",
        "\n",
        "x = [5, 7, 8, 7, 2, 17, 2, 9, 4, 11]\n",
        "y = [99, 86, 87, 88, 100, 86, 103, 87, 94, 78]\n",
        "\n",
        "plt.scatter(x, y, color='purple')\n",
        "plt.title(\"Scatter Plot: Relationship between X and Y\")\n",
        "plt.xlabel(\"X Values\")\n",
        "plt.ylabel(\"Y Values\")\n",
        "plt.show()"
      ],
      "metadata": {
        "colab": {
          "base_uri": "https://localhost:8080/",
          "height": 472
        },
        "id": "zCWhtXgi_b3T",
        "outputId": "41086e9e-b415-42ed-8a15-b92830819db9"
      },
      "execution_count": 10,
      "outputs": [
        {
          "output_type": "display_data",
          "data": {
            "text/plain": [
              "<Figure size 640x480 with 1 Axes>"
            ],
            "image/png": "[encoded data removed]"
          },
          "metadata": {}
        }
      ]
    },
    {
      "cell_type": "code",
      "source": [],
      "metadata": {
        "id": "OTZxaP-9_geL"
      },
      "execution_count": null,
      "outputs": []
    },
    {
      "cell_type": "markdown",
      "source": [
        "32:--Implement and compare simple random sampling and systematic sampling."
      ],
      "metadata": {
        "id": "YbaLXMdf_hmy"
      }
    },
    {
      "cell_type": "code",
      "source": [
        "import pandas as pd\n",
        "import numpy as np\n",
        "\n",
        "data = pd.DataFrame({'Value': range(1, 31)})\n",
        "\n",
        "# Simple Random Sampling (5 samples)\n",
        "simple_random = data.sample(n=5)\n",
        "\n",
        "# Systematic Sampling (every 6th element)\n",
        "k = 6\n",
        "systematic_sample = data.iloc[::k]\n",
        "\n",
        "print(\"Simple Random Sampling:\\n\", simple_random)\n",
        "print(\"\\nSystematic Sampling:\\n\", systematic_sample)"
      ],
      "metadata": {
        "colab": {
          "base_uri": "https://localhost:8080/"
        },
        "id": "RHB3niuL_l3j",
        "outputId": "1bc22d7b-27b4-4e00-af6f-57cbcbf5e09f"
      },
      "execution_count": 11,
      "outputs": [
        {
          "output_type": "stream",
          "name": "stdout",
          "text": [
            "Simple Random Sampling:\n",
            "     Value\n",
            "22     23\n",
            "13     14\n",
            "1       2\n",
            "12     13\n",
            "20     21\n",
            "\n",
            "Systematic Sampling:\n",
            "     Value\n",
            "0       1\n",
            "6       7\n",
            "12     13\n",
            "18     19\n",
            "24     25\n"
          ]
        }
      ]
    },
    {
      "cell_type": "code",
      "source": [],
      "metadata": {
        "id": "rTySyXyT_qX-"
      },
      "execution_count": null,
      "outputs": []
    },
    {
      "cell_type": "markdown",
      "source": [
        "33:--Calculate the mean, median, and mode of grouped data.\n",
        "\n",
        "Mean is calculated using\n",
        "𝑥\n",
        "ˉ\n",
        "=\n",
        "∑\n",
        "(\n",
        "𝑓\n",
        "⋅\n",
        "𝑥\n",
        ")\n",
        "∑\n",
        "𝑓\n",
        "x\n",
        "ˉ\n",
        " =\n",
        "∑f\n",
        "∑(f⋅x)\n",
        "​\n",
        " , where\n",
        "𝑥\n",
        "x is class midpoint.\n",
        "\n",
        "Median uses\n",
        "𝐿\n",
        "+\n",
        "(\n",
        "𝑁\n",
        "2\n",
        "−\n",
        "𝐶\n",
        "𝐹\n",
        "𝑓\n",
        "𝑚\n",
        ")\n",
        "ℎ\n",
        "L+(\n",
        "f\n",
        "m\n",
        "​\n",
        "\n",
        "2\n",
        "N\n",
        "​\n",
        " −CF\n",
        "​\n",
        " )h, identifying the median class.\n",
        "\n",
        "Mode uses\n",
        "𝐿\n",
        "+\n",
        "(\n",
        "𝑓\n",
        "1\n",
        "−\n",
        "𝑓\n",
        "0\n",
        "2\n",
        "𝑓\n",
        "1\n",
        "−\n",
        "𝑓\n",
        "0\n",
        "−\n",
        "𝑓\n",
        "2\n",
        ")\n",
        "ℎ\n",
        "L+(\n",
        "2f\n",
        "1\n",
        "​\n",
        " −f\n",
        "0\n",
        "​\n",
        " −f\n",
        "2\n",
        "​\n",
        "\n",
        "f\n",
        "1\n",
        "​\n",
        " −f\n",
        "0\n",
        "​\n",
        "\n",
        "​\n",
        " )h, where\n",
        "𝑓\n",
        "1\n",
        "f\n",
        "1\n",
        "​\n",
        "  is modal class frequency.\n",
        "  "
      ],
      "metadata": {
        "id": "A6FkumQu_rl-"
      }
    },
    {
      "cell_type": "markdown",
      "source": [
        "34:--Simulate data using Python and calculate its central tendency and dispersion."
      ],
      "metadata": {
        "id": "2izUhmK_Afqg"
      }
    },
    {
      "cell_type": "code",
      "source": [],
      "metadata": {
        "id": "YCtYPD29AuNU"
      },
      "execution_count": null,
      "outputs": []
    },
    {
      "cell_type": "markdown",
      "source": [
        "35:--Use NumPy or pandas to summarize a dataset’s descriptive statistics."
      ],
      "metadata": {
        "id": "LRXDYj6ZAy5I"
      }
    },
    {
      "cell_type": "code",
      "source": [
        "import numpy as np\n",
        "import pandas as pd\n",
        "\n",
        "# Simulate dataset (100 random values from normal distribution)\n",
        "data = np.random.normal(loc=50, scale=10, size=100)\n",
        "\n",
        "# Using pandas DataFrame\n",
        "df = pd.DataFrame(data, columns=['Values'])\n",
        "\n",
        "# Descriptive Statistics\n",
        "print(\"Descriptive Statistics using pandas:\")\n",
        "print(df.describe())   # count, mean, std, min, 25%, 50%, 75%, max\n",
        "\n",
        "# Using NumPy for specific stats\n",
        "mean = np.mean(data)\n",
        "median = np.median(data)\n",
        "std_dev = np.std(data, ddof=1)\n",
        "variance = np.var(data, ddof=1)\n",
        "data_range = np.max(data) - np.min(data)\n",
        "\n",
        "print(\"\\nDescriptive Statistics using NumPy:\")\n",
        "print(f\"Mean: {mean:.2f}\")\n",
        "print(f\"Median: {median:.2f}\")\n",
        "print(f\"Standard Deviation: {std_dev:.2f}\")\n",
        "print(f\"Variance: {variance:.2f}\")\n",
        "print(f\"Range: {data_range:.2f}\")"
      ],
      "metadata": {
        "colab": {
          "base_uri": "https://localhost:8080/"
        },
        "id": "pmiWU3MGA5P5",
        "outputId": "5ab73753-b57f-4d53-b29f-74c10db6058e"
      },
      "execution_count": 13,
      "outputs": [
        {
          "output_type": "stream",
          "name": "stdout",
          "text": [
            "Descriptive Statistics using pandas:\n",
            "           Values\n",
            "count  100.000000\n",
            "mean    49.030872\n",
            "std     10.297124\n",
            "min     25.697586\n",
            "25%     40.928568\n",
            "50%     48.612546\n",
            "75%     56.355250\n",
            "max     76.101076\n",
            "\n",
            "Descriptive Statistics using NumPy:\n",
            "Mean: 49.03\n",
            "Median: 48.61\n",
            "Standard Deviation: 10.30\n",
            "Variance: 106.03\n",
            "Range: 50.40\n"
          ]
        }
      ]
    },
    {
      "cell_type": "code",
      "source": [],
      "metadata": {
        "id": "DGN8fUf5A_US"
      },
      "execution_count": null,
      "outputs": []
    }
  ]
}